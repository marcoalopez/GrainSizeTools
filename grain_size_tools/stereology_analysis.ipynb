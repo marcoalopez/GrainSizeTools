{
 "cells": [
  {
   "cell_type": "markdown",
   "id": "892ec73c-434d-4fc4-bf86-559861a4954f",
   "metadata": {},
   "source": [
    "# Stereology Analysis Template\n",
    "\n",
    "**Goal**: TODO"
   ]
  },
  {
   "cell_type": "code",
   "execution_count": null,
   "id": "c472f09e-1aa7-4578-b5e9-3c9a242febfe",
   "metadata": {},
   "outputs": [],
   "source": []
  },
  {
   "cell_type": "markdown",
   "id": "c847e718-36c1-46f0-bf6b-7881dcb6b86e",
   "metadata": {},
   "source": [
    "# Using the Saltykov method\n",
    "\n",
    "TODO"
   ]
  },
  {
   "cell_type": "code",
   "execution_count": null,
   "id": "5a20f652-d5db-42dc-b3a6-6fcc40e7899d",
   "metadata": {},
   "outputs": [],
   "source": []
  },
  {
   "cell_type": "markdown",
   "id": "458148cc-b7c4-431b-8006-27a11d0a544a",
   "metadata": {},
   "source": [
    "## Using the two-step method\n",
    "\n",
    "TODO"
   ]
  },
  {
   "cell_type": "code",
   "execution_count": null,
   "id": "4b954b3f-e440-4c2a-a61a-f66828f75ae4",
   "metadata": {},
   "outputs": [],
   "source": []
  }
 ],
 "metadata": {
  "kernelspec": {
   "display_name": "Python 3 (ipykernel)",
   "language": "python",
   "name": "python3"
  },
  "language_info": {
   "codemirror_mode": {
    "name": "ipython",
    "version": 3
   },
   "file_extension": ".py",
   "mimetype": "text/x-python",
   "name": "python",
   "nbconvert_exporter": "python",
   "pygments_lexer": "ipython3",
   "version": "3.10.13"
  }
 },
 "nbformat": 4,
 "nbformat_minor": 5
}
