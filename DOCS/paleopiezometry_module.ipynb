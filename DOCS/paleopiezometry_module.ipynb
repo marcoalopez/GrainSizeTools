{
 "cells": [
  {
   "cell_type": "markdown",
   "id": "10bf9962-b18d-47a5-80d4-b66348dd8956",
   "metadata": {},
   "source": [
    "# The paleopiezometry module\n",
    "\n",
    "TODO"
   ]
  },
  {
   "cell_type": "code",
   "execution_count": null,
   "id": "93287c25-1187-44c0-985d-3f293cf99762",
   "metadata": {},
   "outputs": [],
   "source": []
  }
 ],
 "metadata": {
  "kernelspec": {
   "display_name": "Python 3 (ipykernel)",
   "language": "python",
   "name": "python3"
  },
  "language_info": {
   "codemirror_mode": {
    "name": "ipython",
    "version": 3
   },
   "file_extension": ".py",
   "mimetype": "text/x-python",
   "name": "python",
   "nbconvert_exporter": "python",
   "pygments_lexer": "ipython3",
   "version": "3.10.13"
  }
 },
 "nbformat": 4,
 "nbformat_minor": 5
}
