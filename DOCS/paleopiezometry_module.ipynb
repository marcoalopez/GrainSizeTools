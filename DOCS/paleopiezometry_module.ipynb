{
 "cells": [
  {
   "cell_type": "markdown",
   "id": "10bf9962-b18d-47a5-80d4-b66348dd8956",
   "metadata": {},
   "source": [
    "# The paleopiezometry module\n",
    "\n",
    "TODO"
   ]
  },
  {
   "cell_type": "code",
   "execution_count": null,
   "id": "93287c25-1187-44c0-985d-3f293cf99762",
   "metadata": {},
   "outputs": [],
   "source": []
  },
  {
   "cell_type": "markdown",
   "metadata": {},
   "source": [
    "> **Never combine means -or any other statistic- as if they were datapoints**. It is very tempting to take different separate palaeopiezometric estimates and then take the mean of the means (i.e. the piezometric estimate itself is derived from an average) as if they were data points. You may be surprised to read this and think that you then have to consider the raw data from all the experiments and make the estimate from there. The bad news is that neither approach is correct. The first approach ignores the uncertainty in each estimate of the mean and the second ignores the uncertainty within and between experimental conditions (or measured areas). So what is the correct procedure? It is to take the weighted mean of the means, where each mean is weighted by its variance. This is known as the Mantel-Haenszel method."
   ]
  }
 ],
 "metadata": {
  "kernelspec": {
   "display_name": "Python 3 (ipykernel)",
   "language": "python",
   "name": "python3"
  },
  "language_info": {
   "codemirror_mode": {
    "name": "ipython",
    "version": 3
   },
   "file_extension": ".py",
   "mimetype": "text/x-python",
   "name": "python",
   "nbconvert_exporter": "python",
   "pygments_lexer": "ipython3",
   "version": "3.10.13"
  }
 },
 "nbformat": 4,
 "nbformat_minor": 5
}
