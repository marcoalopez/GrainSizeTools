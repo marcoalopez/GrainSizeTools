{
 "cells": [
  {
   "cell_type": "markdown",
   "id": "4ff7a692-9472-4360-a326-897003bec04f",
   "metadata": {},
   "source": [
    "# Paleopiezometry analysis Template\n",
    "\n",
    "**Goal**: TODO"
   ]
  },
  {
   "cell_type": "code",
   "execution_count": null,
   "id": "013a329a-5942-42e9-9131-ea82de57766d",
   "metadata": {},
   "outputs": [],
   "source": []
  },
  {
   "cell_type": "markdown",
   "id": "e60e3a8c-0e26-4d0e-a3c6-0feb72ff7ffc",
   "metadata": {},
   "source": [
    "## Quartz\n",
    "\n",
    "TODO"
   ]
  },
  {
   "cell_type": "markdown",
   "id": "35d51867-30b3-4ad4-a2b6-b31972344922",
   "metadata": {
    "tags": []
   },
   "source": [
    "## Olivine\n",
    "\n",
    "TODO"
   ]
  },
  {
   "cell_type": "markdown",
   "id": "30815d82-c0bf-4524-a351-631d504bcc76",
   "metadata": {},
   "source": [
    "## Calcite\n",
    "\n",
    "TODO"
   ]
  },
  {
   "cell_type": "code",
   "execution_count": null,
   "id": "db83063c-de8d-46ad-a907-1ea0af859197",
   "metadata": {},
   "outputs": [],
   "source": []
  }
 ],
 "metadata": {
  "kernelspec": {
   "display_name": "Python 3 (ipykernel)",
   "language": "python",
   "name": "python3"
  },
  "language_info": {
   "codemirror_mode": {
    "name": "ipython",
    "version": 3
   },
   "file_extension": ".py",
   "mimetype": "text/x-python",
   "name": "python",
   "nbconvert_exporter": "python",
   "pygments_lexer": "ipython3",
   "version": "3.10.13"
  }
 },
 "nbformat": 4,
 "nbformat_minor": 5
}
