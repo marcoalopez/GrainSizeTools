{
 "cells": [
  {
   "cell_type": "markdown",
   "id": "f45741ac-0aa1-44c0-917f-b0d3ee2990fd",
   "metadata": {},
   "source": [
    "# Grain Size Analysis Template\n",
    "\n",
    "**Goal**: TODO"
   ]
  },
  {
   "cell_type": "code",
   "execution_count": null,
   "id": "f6d4b773-f3cd-4cb5-8b63-027062c090c6",
   "metadata": {},
   "outputs": [],
   "source": []
  }
 ],
 "metadata": {
  "kernelspec": {
   "display_name": "Python 3 (ipykernel)",
   "language": "python",
   "name": "python3"
  },
  "language_info": {
   "codemirror_mode": {
    "name": "ipython",
    "version": 3
   },
   "file_extension": ".py",
   "mimetype": "text/x-python",
   "name": "python",
   "nbconvert_exporter": "python",
   "pygments_lexer": "ipython3",
   "version": "3.10.13"
  }
 },
 "nbformat": 4,
 "nbformat_minor": 5
}
